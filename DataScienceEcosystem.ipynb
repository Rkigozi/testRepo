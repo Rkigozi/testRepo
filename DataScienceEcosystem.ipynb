{
 "cells": [
  {
   "cell_type": "markdown",
   "id": "45207120",
   "metadata": {},
   "source": [
    "# Data Science Tools and Ecosystem"
   ]
  },
  {
   "cell_type": "markdown",
   "id": "a2d045cd",
   "metadata": {},
   "source": [
    "## Author\n",
    "Robert Kiruta-Kigozi"
   ]
  },
  {
   "cell_type": "markdown",
   "id": "3ce585cb",
   "metadata": {},
   "source": [
    "In this notebook, Data Science Tools and Ecosystem are summarized"
   ]
  },
  {
   "cell_type": "markdown",
   "id": "ff5abf38",
   "metadata": {},
   "source": [
    "**Objectives**:\n",
    "\n",
    "- List popular languages for Data Science\n",
    "- Execute Simple Arithmetic\n",
    "- List popular Data Science Tools"
   ]
  },
  {
   "cell_type": "markdown",
   "id": "a4855965",
   "metadata": {},
   "source": [
    "Some of the popular languages that Data Scientists use are:\n",
    "    \n",
    "1. Python\n",
    "2. SQL\n",
    "3. R"
   ]
  },
  {
   "cell_type": "markdown",
   "id": "ccee5787",
   "metadata": {},
   "source": [
    "|Data Science Tools|\n",
    "-----------------------\n",
    "|Jupyter Notebook| \n",
    "|RStudio|\n",
    "|Apaches Zeppelin"
   ]
  },
  {
   "cell_type": "markdown",
   "id": "a2f5a421",
   "metadata": {},
   "source": [
    "### Below are a few examples of evaluating arithmetic expression in Python"
   ]
  },
  {
   "cell_type": "code",
   "execution_count": 1,
   "id": "32eec07c",
   "metadata": {},
   "outputs": [
    {
     "data": {
      "text/plain": [
       "17"
      ]
     },
     "execution_count": 1,
     "metadata": {},
     "output_type": "execute_result"
    }
   ],
   "source": [
    "#This a simple arithmetic expression to mutiply then add integers\n",
    "(3 * 4) + 5"
   ]
  },
  {
   "cell_type": "code",
   "execution_count": 2,
   "id": "00e41afe",
   "metadata": {},
   "outputs": [
    {
     "data": {
      "text/plain": [
       "3.3333333333333335"
      ]
     },
     "execution_count": 2,
     "metadata": {},
     "output_type": "execute_result"
    }
   ],
   "source": [
    "#This will convert 200 minutes to hours by diving by 60\n",
    "200/60"
   ]
  },
  {
   "cell_type": "code",
   "execution_count": null,
   "id": "008fd653",
   "metadata": {},
   "outputs": [],
   "source": []
  }
 ],
 "metadata": {
  "kernelspec": {
   "display_name": "Python 3 (ipykernel)",
   "language": "python",
   "name": "python3"
  },
  "language_info": {
   "codemirror_mode": {
    "name": "ipython",
    "version": 3
   },
   "file_extension": ".py",
   "mimetype": "text/x-python",
   "name": "python",
   "nbconvert_exporter": "python",
   "pygments_lexer": "ipython3",
   "version": "3.9.7"
  }
 },
 "nbformat": 4,
 "nbformat_minor": 5
}
